{
 "cells": [
  {
   "cell_type": "markdown",
   "metadata": {},
   "source": [
    "자자 파이토치를 속성으로 빠르게 배워보자. ai를 이용해서 필요한 것들만 한 번 빠르게 배워보자.\n",
    "\n",
    "우선은 간단하게 mnist숫자 이미지 데이터를 분류하는 모델을 만들어보자."
   ]
  },
  {
   "cell_type": "markdown",
   "metadata": {},
   "source": [
    "# 데이터 다운로드"
   ]
  },
  {
   "cell_type": "markdown",
   "metadata": {},
   "source": [
    "파일들을 다운로드 했는데 csv파일이 아니라 IDX형식이라는 MNIST데이터셋 고유의 바이너리 형식으로 저장됨. 그리고 데이터와 레이블이 별개의 파일로 다운로드 됨. \n",
    "\n",
    "train이 붙은게 훈련용 데이터 60000개 샘플이고, t10k라고 붙은게 테스트용 10000개의 샘플이다.\n",
    "\n",
    "처음에는 다운로드 된 파일에 직접 접근해서 읽어오는 것인가 했는데 아님. train_dataset_raw 객체에 이미지는 PIL로 저장되어있고, 레이블도 함께 묶여있댜."
   ]
  },
  {
   "cell_type": "code",
   "execution_count": 11,
   "metadata": {},
   "outputs": [
    {
     "name": "stdout",
     "output_type": "stream",
     "text": [
      "MNIST 데이터셋이 datasets 디렉터리에 다운로드 되었습니다.\n"
     ]
    }
   ],
   "source": [
    "import torch\n",
    "from torchvision import datasets\n",
    "import os\n",
    "\n",
    "# datasets 디렉터리 생성 (이미 존재하면 무시)\n",
    "os.makedirs('./datasets', exist_ok=True)\n",
    "\n",
    "# MNIST 데이터셋 다운로드 및 저장\n",
    "train_dataset_raw = datasets.MNIST(\n",
    "    root='./datasets',\n",
    "    train=True,\n",
    "    download=True\n",
    ")\n",
    "\n",
    "test_dataset_raw = datasets.MNIST(\n",
    "    root='./datasets',\n",
    "    train=False,\n",
    "    download=True\n",
    ")\n",
    "\n",
    "print(\"MNIST 데이터셋이 datasets 디렉터리에 다운로드 되었습니다.\")"
   ]
  },
  {
   "cell_type": "markdown",
   "metadata": {},
   "source": [
    "# 데이터셋 준비"
   ]
  },
  {
   "cell_type": "code",
   "execution_count": 20,
   "metadata": {},
   "outputs": [
    {
     "name": "stdout",
     "output_type": "stream",
     "text": [
      "훈련 데이터 크기: 50000, 검증 데이터 크기: 10000, 테스트 데이터 크기: 10000\n",
      "MNIST 데이터셋이 정규화되고, 훈련/검증/테스트 DataLoader로 준비되었습니다.\n"
     ]
    }
   ],
   "source": [
    "import torch\n",
    "from torchvision import datasets\n",
    "from torch.utils.data import DataLoader, random_split, Dataset\n",
    "import numpy as np\n",
    "import os\n",
    "\n",
    "# # datasets 디렉터리 생성\n",
    "# os.makedirs('./datasets', exist_ok=True)\n",
    "\n",
    "# # 다운로드만 먼저 수행\n",
    "# train_dataset_raw = datasets.MNIST(root='./datasets', train=True, download=True)\n",
    "# test_dataset_raw = datasets.MNIST(root='./datasets', train=False, download=True)\n",
    "\n",
    "# print(\"MNIST 데이터셋이 다운로드 되었습니다.\")\n",
    "\n",
    "# 커스텀 Dataset 클래스 정의 (정규화 포함)\n",
    "class NormalizedMNIST(Dataset):\n",
    "    def __init__(self, dataset):\n",
    "        self.dataset = dataset\n",
    "    \n",
    "    def __len__(self):\n",
    "        return len(self.dataset)\n",
    "    \n",
    "    def __getitem__(self, idx):\n",
    "        image, label = self.dataset[idx]\n",
    "        # PIL 이미지를 텐서로 변환하고 0~1로 정규화\n",
    "        image = torch.tensor(np.array(image), dtype=torch.float32) / 255.0 # 이제 지금 무슨 PIL이미지로 저장이 되어 있다고 나와서 np.array()로 한 번 감싸주었음. 그래야 제대로 텐서로 변한됨.\n",
    "        return image, label\n",
    "\n",
    "# 정규화된 Dataset 생성\n",
    "train_dataset = NormalizedMNIST(train_dataset_raw)\n",
    "test_dataset = NormalizedMNIST(test_dataset_raw)\n",
    "\n",
    "# 훈련 데이터에서 검증 데이터 분리\n",
    "train_size = len(train_dataset)\n",
    "val_size = 10000\n",
    "new_train_size = train_size - val_size\n",
    "train_subset, val_subset = random_split(train_dataset, [new_train_size, val_size])\n",
    "\n",
    "# DataLoader 설정, 훈련 데이터를 배치로 묶어서 제공한다. 여기에서 셔플도 수행함.\n",
    "batch_size = 32\n",
    "train_loader = DataLoader(train_subset, batch_size=batch_size, shuffle=True)\n",
    "val_loader = DataLoader(val_subset, batch_size=batch_size, shuffle=False)\n",
    "test_loader = DataLoader(test_dataset, batch_size=batch_size, shuffle=False)\n",
    "\n",
    "print(f\"훈련 데이터 크기: {len(train_subset)}, 검증 데이터 크기: {len(val_subset)}, 테스트 데이터 크기: {len(test_dataset)}\")\n",
    "print(\"MNIST 데이터셋이 정규화되고, 훈련/검증/테스트 DataLoader로 준비되었습니다.\")"
   ]
  },
  {
   "cell_type": "code",
   "execution_count": 22,
   "metadata": {},
   "outputs": [
    {
     "name": "stdout",
     "output_type": "stream",
     "text": [
      "torch.Size([32, 28, 28])\n",
      "torch.Size([32])\n",
      "tensor([[0.0000, 0.0000, 0.0000, 0.0000, 0.0000, 0.0000, 0.0000, 0.0000, 0.0000,\n",
      "         0.0000, 0.0000, 0.0000, 0.0000, 0.0000, 0.0000, 0.0000, 0.0000, 0.0000,\n",
      "         0.0000, 0.0000, 0.0000, 0.0000, 0.0000, 0.0000, 0.0000, 0.0000, 0.0000,\n",
      "         0.0000],\n",
      "        [0.0000, 0.0000, 0.0000, 0.0000, 0.0000, 0.0000, 0.0000, 0.0000, 0.0000,\n",
      "         0.0000, 0.0000, 0.0000, 0.0000, 0.0000, 0.0000, 0.0000, 0.0000, 0.0000,\n",
      "         0.0000, 0.0000, 0.0000, 0.0000, 0.0000, 0.0000, 0.0000, 0.0000, 0.0000,\n",
      "         0.0000],\n",
      "        [0.0000, 0.0000, 0.0000, 0.0000, 0.0000, 0.0000, 0.0000, 0.0000, 0.0000,\n",
      "         0.0000, 0.0000, 0.0000, 0.0000, 0.0000, 0.0000, 0.0000, 0.0000, 0.0000,\n",
      "         0.0000, 0.0000, 0.0000, 0.0000, 0.0000, 0.0000, 0.0000, 0.0000, 0.0000,\n",
      "         0.0000],\n",
      "        [0.0000, 0.0000, 0.0000, 0.0000, 0.0000, 0.0000, 0.0000, 0.0000, 0.0000,\n",
      "         0.0000, 0.0000, 0.0000, 0.0000, 0.0000, 0.0000, 0.3882, 0.9686, 0.9451,\n",
      "         0.1373, 0.0000, 0.0000, 0.0000, 0.0000, 0.0000, 0.0000, 0.0000, 0.0000,\n",
      "         0.0000],\n",
      "        [0.0000, 0.0000, 0.0000, 0.0000, 0.0000, 0.0000, 0.0000, 0.0000, 0.0000,\n",
      "         0.0000, 0.0000, 0.0000, 0.0000, 0.0157, 0.4706, 0.9961, 0.9922, 0.9608,\n",
      "         0.1686, 0.0000, 0.0000, 0.0000, 0.0000, 0.0000, 0.0000, 0.0000, 0.0000,\n",
      "         0.0000],\n",
      "        [0.0000, 0.0000, 0.0000, 0.0000, 0.0000, 0.0000, 0.0000, 0.0000, 0.0000,\n",
      "         0.0000, 0.0000, 0.0000, 0.0000, 0.2510, 0.9922, 0.9961, 0.9922, 0.3686,\n",
      "         0.0000, 0.0000, 0.0000, 0.0000, 0.0000, 0.0000, 0.0000, 0.0000, 0.0000,\n",
      "         0.0000],\n",
      "        [0.0000, 0.0000, 0.0000, 0.0000, 0.0000, 0.0000, 0.0000, 0.0000, 0.0000,\n",
      "         0.0000, 0.0000, 0.0000, 0.0627, 0.7961, 0.9922, 0.9725, 0.3882, 0.0314,\n",
      "         0.0000, 0.0000, 0.0000, 0.0000, 0.0000, 0.0000, 0.0000, 0.0000, 0.0000,\n",
      "         0.0000],\n",
      "        [0.0000, 0.0000, 0.0000, 0.0000, 0.0000, 0.0000, 0.0000, 0.0000, 0.0000,\n",
      "         0.0000, 0.0000, 0.0000, 0.2706, 0.9922, 0.9922, 0.3294, 0.0000, 0.0000,\n",
      "         0.0000, 0.0000, 0.0000, 0.0000, 0.0000, 0.0000, 0.0000, 0.0000, 0.0000,\n",
      "         0.0000],\n",
      "        [0.0000, 0.0000, 0.0000, 0.0000, 0.0000, 0.0000, 0.0000, 0.0000, 0.0000,\n",
      "         0.0000, 0.0000, 0.1412, 0.9451, 0.9961, 0.7647, 0.0000, 0.0000, 0.0000,\n",
      "         0.0000, 0.0000, 0.0000, 0.0000, 0.0000, 0.0000, 0.0000, 0.0000, 0.0000,\n",
      "         0.0000],\n",
      "        [0.0000, 0.0000, 0.0000, 0.0000, 0.0000, 0.0000, 0.0000, 0.0000, 0.0000,\n",
      "         0.0000, 0.0000, 0.4196, 0.9922, 0.9490, 0.1451, 0.0000, 0.0000, 0.0000,\n",
      "         0.0000, 0.0000, 0.0000, 0.0000, 0.0000, 0.0000, 0.0000, 0.0000, 0.0000,\n",
      "         0.0000],\n",
      "        [0.0000, 0.0000, 0.0000, 0.0000, 0.0000, 0.0000, 0.0000, 0.0000, 0.0000,\n",
      "         0.0000, 0.1451, 0.9059, 0.9922, 0.5608, 0.0000, 0.0000, 0.0000, 0.0000,\n",
      "         0.0000, 0.0000, 0.0000, 0.0000, 0.0000, 0.0000, 0.0000, 0.0000, 0.0000,\n",
      "         0.0000],\n",
      "        [0.0000, 0.0000, 0.0000, 0.0000, 0.0000, 0.0000, 0.0000, 0.0000, 0.0000,\n",
      "         0.0000, 0.3137, 0.9922, 0.9294, 0.1216, 0.0000, 0.0000, 0.0000, 0.2941,\n",
      "         0.7569, 0.4275, 0.0275, 0.0000, 0.0000, 0.0000, 0.0000, 0.0000, 0.0000,\n",
      "         0.0000],\n",
      "        [0.0000, 0.0000, 0.0000, 0.0000, 0.0000, 0.0000, 0.0000, 0.0000, 0.0000,\n",
      "         0.0000, 0.6392, 0.9922, 0.8471, 0.0000, 0.0000, 0.0000, 0.0784, 0.9020,\n",
      "         0.9922, 0.9922, 0.3569, 0.0000, 0.0000, 0.0000, 0.0000, 0.0000, 0.0000,\n",
      "         0.0000],\n",
      "        [0.0000, 0.0000, 0.0000, 0.0000, 0.0000, 0.0000, 0.0000, 0.0000, 0.0000,\n",
      "         0.0000, 0.8706, 0.9961, 0.4980, 0.0000, 0.0000, 0.0824, 0.8196, 0.9961,\n",
      "         0.9961, 0.9961, 0.3608, 0.0000, 0.0000, 0.0000, 0.0000, 0.0000, 0.0000,\n",
      "         0.0000],\n",
      "        [0.0000, 0.0000, 0.0000, 0.0000, 0.0000, 0.0000, 0.0000, 0.0000, 0.0000,\n",
      "         0.2078, 0.9961, 0.9922, 0.1647, 0.0000, 0.0000, 0.6902, 0.9922, 0.9922,\n",
      "         0.9922, 0.9922, 0.3569, 0.0000, 0.0000, 0.0000, 0.0000, 0.0000, 0.0000,\n",
      "         0.0000],\n",
      "        [0.0000, 0.0000, 0.0000, 0.0000, 0.0000, 0.0000, 0.0000, 0.0000, 0.0000,\n",
      "         0.3569, 0.9961, 0.9608, 0.1216, 0.0000, 0.1804, 0.9961, 0.9922, 0.8902,\n",
      "         0.9922, 0.9922, 0.0510, 0.0000, 0.0000, 0.0000, 0.0000, 0.0000, 0.0000,\n",
      "         0.0000],\n",
      "        [0.0000, 0.0000, 0.0000, 0.0000, 0.0000, 0.0000, 0.0000, 0.0000, 0.0000,\n",
      "         0.3333, 0.9961, 0.7922, 0.0118, 0.0275, 0.7333, 0.9961, 0.9922, 0.4353,\n",
      "         0.9922, 0.9922, 0.0275, 0.0000, 0.0000, 0.0000, 0.0000, 0.0000, 0.0000,\n",
      "         0.0000],\n",
      "        [0.0000, 0.0000, 0.0000, 0.0000, 0.0000, 0.0000, 0.0000, 0.0000, 0.0000,\n",
      "         0.0000, 0.9961, 0.9922, 0.1412, 0.0000, 0.7098, 0.9961, 0.9922, 0.7608,\n",
      "         0.9922, 0.9922, 0.1020, 0.0000, 0.0000, 0.0000, 0.0000, 0.0000, 0.0000,\n",
      "         0.0000],\n",
      "        [0.0000, 0.0000, 0.0000, 0.0000, 0.0000, 0.0000, 0.0000, 0.0000, 0.0000,\n",
      "         0.0000, 1.0000, 0.9961, 0.1412, 0.0000, 0.1294, 0.8941, 0.9961, 0.9961,\n",
      "         0.9961, 0.5333, 0.0000, 0.0000, 0.0000, 0.0000, 0.0000, 0.0000, 0.0000,\n",
      "         0.0000],\n",
      "        [0.0000, 0.0000, 0.0000, 0.0000, 0.0000, 0.0000, 0.0000, 0.0000, 0.0000,\n",
      "         0.0000, 0.9176, 0.9922, 0.5451, 0.0000, 0.0000, 0.6392, 0.9922, 0.9922,\n",
      "         0.7216, 0.0196, 0.0000, 0.0000, 0.0000, 0.0000, 0.0000, 0.0000, 0.0000,\n",
      "         0.0000],\n",
      "        [0.0000, 0.0000, 0.0000, 0.0000, 0.0000, 0.0000, 0.0000, 0.0000, 0.0000,\n",
      "         0.0000, 0.4627, 0.9922, 0.9725, 0.5725, 0.5020, 0.9451, 0.9922, 0.6392,\n",
      "         0.0824, 0.0000, 0.0000, 0.0000, 0.0000, 0.0000, 0.0000, 0.0000, 0.0000,\n",
      "         0.0000],\n",
      "        [0.0000, 0.0000, 0.0000, 0.0000, 0.0000, 0.0000, 0.0000, 0.0000, 0.0000,\n",
      "         0.0000, 0.0627, 0.8863, 0.9922, 0.9922, 0.9922, 0.9725, 0.5098, 0.0314,\n",
      "         0.0000, 0.0000, 0.0000, 0.0000, 0.0000, 0.0000, 0.0000, 0.0000, 0.0000,\n",
      "         0.0000],\n",
      "        [0.0000, 0.0000, 0.0000, 0.0000, 0.0000, 0.0000, 0.0000, 0.0000, 0.0000,\n",
      "         0.0000, 0.0000, 0.0627, 0.6353, 0.7373, 0.7373, 0.3294, 0.0000, 0.0000,\n",
      "         0.0000, 0.0000, 0.0000, 0.0000, 0.0000, 0.0000, 0.0000, 0.0000, 0.0000,\n",
      "         0.0000],\n",
      "        [0.0000, 0.0000, 0.0000, 0.0000, 0.0000, 0.0000, 0.0000, 0.0000, 0.0000,\n",
      "         0.0000, 0.0000, 0.0000, 0.0000, 0.0000, 0.0000, 0.0000, 0.0000, 0.0000,\n",
      "         0.0000, 0.0000, 0.0000, 0.0000, 0.0000, 0.0000, 0.0000, 0.0000, 0.0000,\n",
      "         0.0000],\n",
      "        [0.0000, 0.0000, 0.0000, 0.0000, 0.0000, 0.0000, 0.0000, 0.0000, 0.0000,\n",
      "         0.0000, 0.0000, 0.0000, 0.0000, 0.0000, 0.0000, 0.0000, 0.0000, 0.0000,\n",
      "         0.0000, 0.0000, 0.0000, 0.0000, 0.0000, 0.0000, 0.0000, 0.0000, 0.0000,\n",
      "         0.0000],\n",
      "        [0.0000, 0.0000, 0.0000, 0.0000, 0.0000, 0.0000, 0.0000, 0.0000, 0.0000,\n",
      "         0.0000, 0.0000, 0.0000, 0.0000, 0.0000, 0.0000, 0.0000, 0.0000, 0.0000,\n",
      "         0.0000, 0.0000, 0.0000, 0.0000, 0.0000, 0.0000, 0.0000, 0.0000, 0.0000,\n",
      "         0.0000],\n",
      "        [0.0000, 0.0000, 0.0000, 0.0000, 0.0000, 0.0000, 0.0000, 0.0000, 0.0000,\n",
      "         0.0000, 0.0000, 0.0000, 0.0000, 0.0000, 0.0000, 0.0000, 0.0000, 0.0000,\n",
      "         0.0000, 0.0000, 0.0000, 0.0000, 0.0000, 0.0000, 0.0000, 0.0000, 0.0000,\n",
      "         0.0000],\n",
      "        [0.0000, 0.0000, 0.0000, 0.0000, 0.0000, 0.0000, 0.0000, 0.0000, 0.0000,\n",
      "         0.0000, 0.0000, 0.0000, 0.0000, 0.0000, 0.0000, 0.0000, 0.0000, 0.0000,\n",
      "         0.0000, 0.0000, 0.0000, 0.0000, 0.0000, 0.0000, 0.0000, 0.0000, 0.0000,\n",
      "         0.0000]])\n",
      "tensor(6)\n"
     ]
    },
    {
     "data": {
      "image/png": "[encoded data removed]",
      "text/plain": [
       "<Figure size 640x480 with 2 Axes>"
      ]
     },
     "metadata": {},
     "output_type": "display_data"
    }
   ],
   "source": [
    "first_batch = next(iter(train_loader))\n",
    "images, labels = first_batch\n",
    "print(images.shape)\n",
    "print(labels.shape)\n",
    "print(images[0])\n",
    "print(labels[0])\n",
    "\n",
    "import matplotlib.pyplot as plt\n",
    "\n",
    "# 시각화할 이미지 선택 (첫 번째 이미지)\n",
    "image_to_visualize = images[0]\n",
    "\n",
    "# 텐서를 NumPy 배열로 변환하고, 차원을 조정\n",
    "image_to_visualize = image_to_visualize.squeeze().numpy()\n",
    "\n",
    "# 이미지 시각화\n",
    "plt.imshow(image_to_visualize, cmap='gray')\n",
    "plt.title(f\"Label: {labels[0]}\")\n",
    "plt.colorbar()\n",
    "plt.show()"
   ]
  },
  {
   "cell_type": "markdown",
   "metadata": {},
   "source": [
    "# 모델 구조 작성"
   ]
  },
  {
   "cell_type": "code",
   "execution_count": 23,
   "metadata": {},
   "outputs": [],
   "source": [
    "import torch\n",
    "import torch.nn as nn\n",
    "\n",
    "# 2. MLP 모델 정의\n",
    "class MLP(nn.Module):\n",
    "    def __init__(self):\n",
    "        super(MLP, self).__init__()\n",
    "        self.flatten = nn.Flatten()  # 28x28 이미지를 784로 펼침\n",
    "        self.layers = nn.Sequential(\n",
    "            nn.Linear(784, 256),  # 입력층 -> 은닉층1\n",
    "            nn.ReLU(),\n",
    "            nn.Linear(256, 128),  # 은닉층1 -> 은닉층2\n",
    "            nn.ReLU(),\n",
    "            nn.Linear(128, 10)    # 은닉층2 -> 출력층 (10개 클래스)\n",
    "            # 왜 SoftMax함수를 통과시키지 않는 것인가 궁금했는데, nn.CrossEntropyLoss 손실함수가 내부적으로 소프트맥스 계산을 수행하기 때문에 추가할 필요가 없음.\n",
    "        )\n",
    "    \n",
    "    def forward(self, x):\n",
    "        x = self.flatten(x)  # (batch_size, 1, 28, 28) -> (batch_size, 784)\n",
    "        x = self.layers(x)\n",
    "        return x"
   ]
  },
  {
   "cell_type": "code",
   "execution_count": 24,
   "metadata": {},
   "outputs": [
    {
     "data": {
      "text/plain": [
       "==========================================================================================\n",
       "Layer (type:depth-idx)                   Output Shape              Param #\n",
       "==========================================================================================\n",
       "MLP                                      [32, 10]                  --\n",
       "├─Flatten: 1-1                           [32, 784]                 --\n",
       "├─Sequential: 1-2                        [32, 10]                  --\n",
       "│    └─Linear: 2-1                       [32, 256]                 200,960\n",
       "│    └─ReLU: 2-2                         [32, 256]                 --\n",
       "│    └─Linear: 2-3                       [32, 128]                 32,896\n",
       "│    └─ReLU: 2-4                         [32, 128]                 --\n",
       "│    └─Linear: 2-5                       [32, 10]                  1,290\n",
       "==========================================================================================\n",
       "Total params: 235,146\n",
       "Trainable params: 235,146\n",
       "Non-trainable params: 0\n",
       "Total mult-adds (M): 7.52\n",
       "==========================================================================================\n",
       "Input size (MB): 0.10\n",
       "Forward/backward pass size (MB): 0.10\n",
       "Params size (MB): 0.94\n",
       "Estimated Total Size (MB): 1.14\n",
       "=========================================================================================="
      ]
     },
     "execution_count": 24,
     "metadata": {},
     "output_type": "execute_result"
    }
   ],
   "source": [
    "# torchinfo로 텐서플로우의 summary()함수처럼 모델의 구조를 도식화해서 표현할 수 있다.\n",
    "from torchinfo import summary\n",
    "\n",
    "model = MLP()\n",
    "summary(model, input_size=(32,28,28)) # 배치 크기와 입력 크기를 지정"
   ]
  },
  {
   "cell_type": "markdown",
   "metadata": {},
   "source": [
    "# 모델 훈련"
   ]
  },
  {
   "cell_type": "code",
   "execution_count": 25,
   "metadata": {},
   "outputs": [
    {
     "name": "stdout",
     "output_type": "stream",
     "text": [
      "MPS 장치를 지원하도록 build가 되었는가? True\n",
      "MPS 장치가 사용 가능한가? True\n"
     ]
    }
   ],
   "source": [
    "# 맥 GPU 사용 가능 여부 확인\n",
    "import torch\n",
    "\n",
    "print(f\"MPS 장치를 지원하도록 build가 되었는가? {torch.backends.mps.is_built()}\")\n",
    "print(f\"MPS 장치가 사용 가능한가? {torch.backends.mps.is_available()}\") "
   ]
  },
  {
   "cell_type": "markdown",
   "metadata": {},
   "source": [
    "일단은 가장 기본적인 훈련 코드를 작성해봄. "
   ]
  },
  {
   "cell_type": "code",
   "execution_count": 26,
   "metadata": {},
   "outputs": [
    {
     "name": "stdout",
     "output_type": "stream",
     "text": [
      "Epoch 1/10\n",
      "Train Loss: 0.2582, Train Acc: 92.42%\n",
      "Val Loss: 0.1305, Val Acc: 96.11%\n",
      "--------------------------------------------------\n",
      "Epoch 2/10\n",
      "Train Loss: 0.1012, Train Acc: 96.92%\n",
      "Val Loss: 0.0924, Val Acc: 97.21%\n",
      "--------------------------------------------------\n",
      "Epoch 3/10\n",
      "Train Loss: 0.0678, Train Acc: 97.83%\n",
      "Val Loss: 0.1045, Val Acc: 96.98%\n",
      "--------------------------------------------------\n",
      "Epoch 4/10\n",
      "Train Loss: 0.0488, Train Acc: 98.48%\n",
      "Val Loss: 0.0740, Val Acc: 97.77%\n",
      "--------------------------------------------------\n",
      "Epoch 5/10\n",
      "Train Loss: 0.0372, Train Acc: 98.76%\n",
      "Val Loss: 0.0830, Val Acc: 97.70%\n",
      "--------------------------------------------------\n",
      "Epoch 6/10\n",
      "Train Loss: 0.0300, Train Acc: 99.01%\n",
      "Val Loss: 0.0983, Val Acc: 97.47%\n",
      "--------------------------------------------------\n",
      "Epoch 7/10\n",
      "Train Loss: 0.0253, Train Acc: 99.16%\n",
      "Val Loss: 0.0852, Val Acc: 97.86%\n",
      "--------------------------------------------------\n",
      "Epoch 8/10\n",
      "Train Loss: 0.0214, Train Acc: 99.31%\n",
      "Val Loss: 0.1008, Val Acc: 97.60%\n",
      "--------------------------------------------------\n",
      "Epoch 9/10\n",
      "Train Loss: 0.0187, Train Acc: 99.34%\n",
      "Val Loss: 0.0951, Val Acc: 97.82%\n",
      "--------------------------------------------------\n",
      "Epoch 10/10\n",
      "Train Loss: 0.0172, Train Acc: 99.41%\n",
      "Val Loss: 0.1141, Val Acc: 97.83%\n",
      "--------------------------------------------------\n"
     ]
    }
   ],
   "source": [
    "import torch\n",
    "import torch.nn as nn\n",
    "import torch.optim as optim\n",
    "\n",
    "# 3. 모델, 손실 함수, 옵티마이저 설정\n",
    "device = torch.device(\"mps\")\n",
    "model = MLP().to(device)\n",
    "loss_fn = nn.CrossEntropyLoss()  # 분류 문제에 적합한 손실 함수\n",
    "optimizer = optim.Adam(model.parameters(), lr=0.001)  # Adam 옵티마이저\n",
    "\n",
    "# 훈련 함수와 검증 함수, 아래 훈련 루프에서 두 함수를 호출한다.\n",
    "\n",
    "# 4. 훈련 함수\n",
    "def train(model, train_loader, loss_fn, optimizer, device):\n",
    "    model.train() # 모델을 훈련 모드로 설정\n",
    "    running_loss = 0.0 # 에포크 동안 손실과 정확도를 추적하기 위한 변수들을 초기화\n",
    "    correct = 0\n",
    "    total = 0\n",
    "    \n",
    "    # 데이터 로더에서 배치 단위로 데이터들을 가져온다.\n",
    "    for images, labels in train_loader:\n",
    "        images, labels = images.to(device), labels.to(device) # 현재 배치의 이미지와 레이블을 지정된 장치, 여기에서는 mac의 GPU로 옮긴다. 파이토치는 이런 것 까지 세세하게 지정해줘야 하는 듯\n",
    "        \n",
    "        # Forward\n",
    "        pred = model(images) # 예측값 생성\n",
    "        loss = loss_fn(pred, labels) # loss 측정\n",
    "        \n",
    "        # Backward\n",
    "        optimizer.zero_grad() # 이전 배치에서 계산된 gradients를 초기화 한다. 이래서 AI가 생성해 준 코드와 파이토치 튜토리얼 코드에서 순서의 차이가 있었던 듯.\n",
    "        loss.backward() # 손실에 대한 gradients를 계산한다. \n",
    "        optimizer.step() # 계산된 gradients로 모델의 파라미터를 업데이트 한다.\n",
    "        \n",
    "        # 통계 계산\n",
    "        running_loss += loss.item() # 현재 배치의 손실을 누적\n",
    "        _, predicted = torch.max(pred, 1) # 모델의 예측 값에서 가장 높은 확률을 가진 클래스를 선택한다. torch.max(input, dim) 이렇게 인수를 받고, 최대값과 최대값의 인덱스를 반환한다.\n",
    "        total += labels.size(0) # 전체 레이블의 수를 루적\n",
    "        correct += (predicted == labels).sum().item() # 정확하게 예측한 레이블의 수를 누적\n",
    "    \n",
    "    epoch_loss = running_loss / len(train_loader)\n",
    "    epoch_acc = 100 * correct / total\n",
    "    return epoch_loss, epoch_acc\n",
    "\n",
    "# 5. 검증 함수\n",
    "def validate(model, val_loader, loss_fn, device):\n",
    "    model.eval() # 검증 모드로 설정\n",
    "    running_loss = 0.0\n",
    "    correct = 0\n",
    "    total = 0\n",
    "    \n",
    "    with torch.no_grad():\n",
    "        for images, labels in val_loader:\n",
    "            images, labels = images.to(device), labels.to(device)\n",
    "            pred = model(images)\n",
    "            loss = loss_fn(pred, labels)\n",
    "            \n",
    "            # 검증이기 때문에 당연히 그레이디언트 계산 및 파라미터 업데이트 과정은 없음.\n",
    "            # 통계값만 계산한다.\n",
    "\n",
    "            running_loss += loss.item()\n",
    "            _, predicted = torch.max(pred, 1)\n",
    "            total += labels.size(0)\n",
    "            correct += (predicted == labels).sum().item()\n",
    "    \n",
    "    epoch_loss = running_loss / len(val_loader)\n",
    "    epoch_acc = 100 * correct / total\n",
    "    return epoch_loss, epoch_acc\n",
    "\n",
    "# 6. 훈련 루프\n",
    "num_epochs = 10\n",
    "for epoch in range(num_epochs):\n",
    "    train_loss, train_acc = train(model, train_loader, loss_fn, optimizer, device)\n",
    "    val_loss, val_acc = validate(model, val_loader, loss_fn, device)\n",
    "    \n",
    "    print(f\"Epoch {epoch+1}/{num_epochs}\")\n",
    "    print(f\"Train Loss: {train_loss:.4f}, Train Acc: {train_acc:.2f}%\")\n",
    "    print(f\"Val Loss: {val_loss:.4f}, Val Acc: {val_acc:.2f}%\")\n",
    "    print(\"-\" * 50)"
   ]
  },
  {
   "cell_type": "markdown",
   "metadata": {},
   "source": [
    "이번에는 pytorch lighting을 사용해봄.\n",
    "pytorch에 고수준 API를 제공해주는 라이브러리로 보인다. 약간 텐서플로우 keras를 쓰는 것 같은 느낌이 든다. 이거 쌈뽕하네. \n",
    "https://baeseongsu.github.io/posts/pytorch-lightning-introduction/"
   ]
  },
  {
   "cell_type": "code",
   "execution_count": 46,
   "metadata": {},
   "outputs": [
    {
     "name": "stderr",
     "output_type": "stream",
     "text": [
      "GPU available: True (mps), used: True\n"
     ]
    },
    {
     "name": "stderr",
     "output_type": "stream",
     "text": [
      "TPU available: False, using: 0 TPU cores\n",
      "HPU available: False, using: 0 HPUs\n",
      "\n",
      "  | Name     | Type               | Params | Mode \n",
      "--------------------------------------------------------\n",
      "0 | flatten  | Flatten            | 0      | train\n",
      "1 | layers   | Sequential         | 235 K  | train\n",
      "2 | accuracy | MulticlassAccuracy | 0      | train\n",
      "--------------------------------------------------------\n",
      "235 K     Trainable params\n",
      "0         Non-trainable params\n",
      "235 K     Total params\n",
      "0.941     Total estimated model params size (MB)\n",
      "8         Modules in train mode\n",
      "0         Modules in eval mode\n"
     ]
    },
    {
     "data": {
      "application/vnd.jupyter.widget-view+json": {
       "model_id": "a17167e5c12f401eb2bc1615fc4682f2",
       "version_major": 2,
       "version_minor": 0
      },
      "text/plain": [
       "Sanity Checking: |          | 0/? [00:00<?, ?it/s]"
      ]
     },
     "metadata": {},
     "output_type": "display_data"
    },
    {
     "name": "stderr",
     "output_type": "stream",
     "text": [
      "/Users/barrett11357/coding/pytorch_learning/.venv/lib/python3.9/site-packages/pytorch_lightning/trainer/connectors/data_connector.py:425: The 'val_dataloader' does not have many workers which may be a bottleneck. Consider increasing the value of the `num_workers` argument` to `num_workers=9` in the `DataLoader` to improve performance.\n",
      "/Users/barrett11357/coding/pytorch_learning/.venv/lib/python3.9/site-packages/pytorch_lightning/trainer/connectors/data_connector.py:425: The 'train_dataloader' does not have many workers which may be a bottleneck. Consider increasing the value of the `num_workers` argument` to `num_workers=9` in the `DataLoader` to improve performance.\n"
     ]
    },
    {
     "data": {
      "application/vnd.jupyter.widget-view+json": {
       "model_id": "d4ffa74cd656400bb4fec05fc4a42535",
       "version_major": 2,
       "version_minor": 0
      },
      "text/plain": [
       "Training: |          | 0/? [00:00<?, ?it/s]"
      ]
     },
     "metadata": {},
     "output_type": "display_data"
    },
    {
     "data": {
      "application/vnd.jupyter.widget-view+json": {
       "model_id": "5dee4286d9804ab6a94ec49b6d47208e",
       "version_major": 2,
       "version_minor": 0
      },
      "text/plain": [
       "Validation: |          | 0/? [00:00<?, ?it/s]"
      ]
     },
     "metadata": {},
     "output_type": "display_data"
    },
    {
     "data": {
      "application/vnd.jupyter.widget-view+json": {
       "model_id": "085a5b7b7fc04f12bd30b57d64ff27ea",
       "version_major": 2,
       "version_minor": 0
      },
      "text/plain": [
       "Validation: |          | 0/? [00:00<?, ?it/s]"
      ]
     },
     "metadata": {},
     "output_type": "display_data"
    },
    {
     "data": {
      "application/vnd.jupyter.widget-view+json": {
       "model_id": "4b47466b77d749deb635400e382c6c9b",
       "version_major": 2,
       "version_minor": 0
      },
      "text/plain": [
       "Validation: |          | 0/? [00:00<?, ?it/s]"
      ]
     },
     "metadata": {},
     "output_type": "display_data"
    },
    {
     "data": {
      "application/vnd.jupyter.widget-view+json": {
       "model_id": "7cd723b220f745d6af4278b5be15a628",
       "version_major": 2,
       "version_minor": 0
      },
      "text/plain": [
       "Validation: |          | 0/? [00:00<?, ?it/s]"
      ]
     },
     "metadata": {},
     "output_type": "display_data"
    },
    {
     "data": {
      "application/vnd.jupyter.widget-view+json": {
       "model_id": "cae4b42819ca44ea9744936de02d3ec1",
       "version_major": 2,
       "version_minor": 0
      },
      "text/plain": [
       "Validation: |          | 0/? [00:00<?, ?it/s]"
      ]
     },
     "metadata": {},
     "output_type": "display_data"
    },
    {
     "data": {
      "application/vnd.jupyter.widget-view+json": {
       "model_id": "e45456d0be7a43c396ea420aa13fb8fb",
       "version_major": 2,
       "version_minor": 0
      },
      "text/plain": [
       "Validation: |          | 0/? [00:00<?, ?it/s]"
      ]
     },
     "metadata": {},
     "output_type": "display_data"
    },
    {
     "data": {
      "application/vnd.jupyter.widget-view+json": {
       "model_id": "bfab96e198d944179e2be6707b171b0f",
       "version_major": 2,
       "version_minor": 0
      },
      "text/plain": [
       "Validation: |          | 0/? [00:00<?, ?it/s]"
      ]
     },
     "metadata": {},
     "output_type": "display_data"
    },
    {
     "data": {
      "application/vnd.jupyter.widget-view+json": {
       "model_id": "41475122a08144bfab5d7cf16d63fff4",
       "version_major": 2,
       "version_minor": 0
      },
      "text/plain": [
       "Validation: |          | 0/? [00:00<?, ?it/s]"
      ]
     },
     "metadata": {},
     "output_type": "display_data"
    },
    {
     "data": {
      "application/vnd.jupyter.widget-view+json": {
       "model_id": "7963d094bfdb42ea88be572638f9ee1b",
       "version_major": 2,
       "version_minor": 0
      },
      "text/plain": [
       "Validation: |          | 0/? [00:00<?, ?it/s]"
      ]
     },
     "metadata": {},
     "output_type": "display_data"
    },
    {
     "data": {
      "application/vnd.jupyter.widget-view+json": {
       "model_id": "aa92622910e945a0828322ce10dc8a66",
       "version_major": 2,
       "version_minor": 0
      },
      "text/plain": [
       "Validation: |          | 0/? [00:00<?, ?it/s]"
      ]
     },
     "metadata": {},
     "output_type": "display_data"
    },
    {
     "name": "stderr",
     "output_type": "stream",
     "text": [
      "`Trainer.fit` stopped: `max_epochs=10` reached.\n"
     ]
    }
   ],
   "source": [
    "import torch\n",
    "import torch.nn as nn\n",
    "import torch.optim as optim\n",
    "import pytorch_lightning as pl\n",
    "from torchmetrics import Accuracy\n",
    "\n",
    "# 2. MLP 모델 정의\n",
    "class MLP(pl.LightningModule): # nn.Module -> pl.LightningModule로 변경\n",
    "    # __init__()과 forward()는 기존과 똑같다. \n",
    "    def __init__(self):\n",
    "        super(MLP, self).__init__()\n",
    "        self.flatten = nn.Flatten()  # 28x28 이미지를 784로 펼침\n",
    "        self.layers = nn.Sequential(\n",
    "            nn.Linear(784, 256),  # 입력층 -> 은닉층1\n",
    "            nn.ReLU(),\n",
    "            nn.Linear(256, 128),  # 은닉층1 -> 은닉층2\n",
    "            nn.ReLU(),\n",
    "            nn.Linear(128, 10)    # 은닉층2 -> 출력층 (10개 클래스)\n",
    "            # 왜 SoftMax함수를 통과시키지 않는 것인가 궁금했는데, nn.CrossEntropyLoss 손실함수가 내부적으로 소프트맥스 계산을 수행하기 때문에 추가할 필요가 없음.\n",
    "        )\n",
    "        self.accuracy = Accuracy(task=\"multiclass\", num_classes=10) # Accuracy 매트릭 정의\n",
    "    \n",
    "    def forward(self, x):\n",
    "        x = self.flatten(x)  # (batch_size, 1, 28, 28) -> (batch_size, 784)\n",
    "        x = self.layers(x)\n",
    "        return x\n",
    "    \n",
    "    def configure_optimizers(self): # optimizer 정의\n",
    "        optimizer = optim.Adam(self.parameters(), lr=0.001)\n",
    "        return optimizer\n",
    "    \n",
    "    # loss만 반환하면 Trainer에서 알아서 그레이디언트를 계산하고 파라미터를 업데이트 하는 것으로 보인다.\n",
    "    def training_step(self, batch, batch_idx): # 훈련 루프 정의\n",
    "        images, labels = batch\n",
    "        pred = self(images)\n",
    "        loss = nn.CrossEntropyLoss()(pred, labels) # loss 계산\n",
    "        acc = self.accuracy(pred, labels) # Accuracy 계산, self.accuracy.update(pred, labels)로 업데이트 하는 방식도 있다.\n",
    "        self.log('train_loss', loss, prog_bar=True) # loss 로깅\n",
    "        self.log('train_acc', acc, prog_bar=True) # accuracy 로깅\n",
    "        return loss\n",
    "    \n",
    "    def validation_step(self, batch, batch_idx): # 검증 루프 정의\n",
    "        images, labels = batch\n",
    "        pred = self(images)\n",
    "        loss = nn.CrossEntropyLoss()(pred, labels) # loss 계산\n",
    "        acc = self.accuracy(pred, labels) # Accuracy 계산\n",
    "        self.log('val_loss', loss, prog_bar=True) # loss 로깅\n",
    "        self.log('val_acc', acc, prog_bar=True) # accuracy 로깅\n",
    "        return loss\n",
    "    \n",
    "# 모델 훈련\n",
    "model = MLP()\n",
    "trainer = pl.Trainer(max_epochs=10, accelerator=\"mps\", logger=pl.loggers.CSVLogger(\"logs/\")) # Trainer 생성, 에포크 및 가속기 설정, 에포크별 메트릭을 리스트로 얻으려면 TensorBoardLogger나 CSVLogger 같은 로거를 사용하고, 훈련 후 로그 파일에서 데이터를 읽어야 합니다.\n",
    "trainer.fit(model, train_loader, val_loader) # 모델 훈련\n",
    "\n",
    "# # 훈련 후 metrics 확인, 아 근데 얘는 그냥 단일 딕셔너리다. 마지막 에포크의 결과만을 저장함.\n",
    "# metrics = trainer.callback_metrics\n",
    "# print(metrics)"
   ]
  },
  {
   "cell_type": "code",
   "execution_count": 53,
   "metadata": {},
   "outputs": [],
   "source": [
    "import pandas as pd\n",
    "metrics_df = pd.read_csv(\"logs/lightning_logs/version_0/metrics.csv\")\n",
    "train_loss = metrics_df.groupby('epoch')['train_loss'].mean().tolist()\n",
    "val_loss = metrics_df.groupby('epoch')['val_loss'].mean().tolist()\n",
    "train_acc = metrics_df.groupby('epoch')['train_acc'].mean().tolist()\n",
    "val_acc = metrics_df.groupby('epoch')['val_acc'].mean().tolist()"
   ]
  },
  {
   "cell_type": "code",
   "execution_count": 54,
   "metadata": {},
   "outputs": [
    {
     "data": {
      "image/png": "[encoded data removed]",
      "text/plain": [
       "<Figure size 1200x600 with 1 Axes>"
      ]
     },
     "metadata": {},
     "output_type": "display_data"
    },
    {
     "data": {
      "image/png": "[encoded data removed]",
      "text/plain": [
       "<Figure size 1200x600 with 1 Axes>"
      ]
     },
     "metadata": {},
     "output_type": "display_data"
    }
   ],
   "source": [
    "# metrics.csv를 보면 기록된게 뭔가 요상하긴 한데 일단 그냥 넘어가자.\n",
    "\n",
    "# 에포크별 훈련 및 검증 손실 그래프\n",
    "epochs = range(1, len(train_loss) + 1)\n",
    "\n",
    "plt.figure(figsize=(12, 6))\n",
    "plt.plot(epochs, train_loss, 'bo-', label='Training Loss')\n",
    "plt.plot(epochs, val_loss, 'ro-', label='Validation Loss')\n",
    "plt.title('Training and Validation Loss')\n",
    "plt.xlabel('Epochs')\n",
    "plt.ylabel('Loss')\n",
    "plt.legend()\n",
    "plt.grid(True)\n",
    "plt.xticks(epochs)  # x축에 모든 에포크 표시\n",
    "plt.show()\n",
    "\n",
    "# 에포크별 훈련 및 검증 정확도 그래프\n",
    "plt.figure(figsize=(12, 6))\n",
    "plt.plot(epochs, train_acc, 'bo-', label='Training Accuracy')\n",
    "plt.plot(epochs, val_acc, 'ro-', label='Validation Accuracy')\n",
    "plt.title('Training and Validation Accuracy')\n",
    "plt.xlabel('Epochs')\n",
    "plt.ylabel('Accuracy')\n",
    "plt.legend()\n",
    "plt.grid(True)\n",
    "plt.xticks(epochs)  # x축에 모든 에포크 표시\n",
    "plt.show()"
   ]
  },
  {
   "cell_type": "code",
   "execution_count": 55,
   "metadata": {},
   "outputs": [
    {
     "ename": "MisconfigurationException",
     "evalue": "No `test_step()` method defined to run `Trainer.test`.",
     "output_type": "error",
     "traceback": [
      "\u001b[0;31m---------------------------------------------------------------------------\u001b[0m",
      "\u001b[0;31mMisconfigurationException\u001b[0m                 Traceback (most recent call last)",
      "Cell \u001b[0;32mIn[55], line 1\u001b[0m\n\u001b[0;32m----> 1\u001b[0m \u001b[43mtrainer\u001b[49m\u001b[38;5;241;43m.\u001b[39;49m\u001b[43mtest\u001b[49m\u001b[43m(\u001b[49m\u001b[43mmodel\u001b[49m\u001b[43m,\u001b[49m\u001b[43m \u001b[49m\u001b[43mtest_loader\u001b[49m\u001b[43m)\u001b[49m\n",
      "File \u001b[0;32m~/coding/pytorch_learning/.venv/lib/python3.9/site-packages/pytorch_lightning/trainer/trainer.py:749\u001b[0m, in \u001b[0;36mTrainer.test\u001b[0;34m(self, model, dataloaders, ckpt_path, verbose, datamodule)\u001b[0m\n\u001b[1;32m    747\u001b[0m \u001b[38;5;28mself\u001b[39m\u001b[38;5;241m.\u001b[39mstate\u001b[38;5;241m.\u001b[39mstatus \u001b[38;5;241m=\u001b[39m TrainerStatus\u001b[38;5;241m.\u001b[39mRUNNING\n\u001b[1;32m    748\u001b[0m \u001b[38;5;28mself\u001b[39m\u001b[38;5;241m.\u001b[39mtesting \u001b[38;5;241m=\u001b[39m \u001b[38;5;28;01mTrue\u001b[39;00m\n\u001b[0;32m--> 749\u001b[0m \u001b[38;5;28;01mreturn\u001b[39;00m \u001b[43mcall\u001b[49m\u001b[38;5;241;43m.\u001b[39;49m\u001b[43m_call_and_handle_interrupt\u001b[49m\u001b[43m(\u001b[49m\n\u001b[1;32m    750\u001b[0m \u001b[43m    \u001b[49m\u001b[38;5;28;43mself\u001b[39;49m\u001b[43m,\u001b[49m\u001b[43m \u001b[49m\u001b[38;5;28;43mself\u001b[39;49m\u001b[38;5;241;43m.\u001b[39;49m\u001b[43m_test_impl\u001b[49m\u001b[43m,\u001b[49m\u001b[43m \u001b[49m\u001b[43mmodel\u001b[49m\u001b[43m,\u001b[49m\u001b[43m \u001b[49m\u001b[43mdataloaders\u001b[49m\u001b[43m,\u001b[49m\u001b[43m \u001b[49m\u001b[43mckpt_path\u001b[49m\u001b[43m,\u001b[49m\u001b[43m \u001b[49m\u001b[43mverbose\u001b[49m\u001b[43m,\u001b[49m\u001b[43m \u001b[49m\u001b[43mdatamodule\u001b[49m\n\u001b[1;32m    751\u001b[0m \u001b[43m\u001b[49m\u001b[43m)\u001b[49m\n",
      "File \u001b[0;32m~/coding/pytorch_learning/.venv/lib/python3.9/site-packages/pytorch_lightning/trainer/call.py:47\u001b[0m, in \u001b[0;36m_call_and_handle_interrupt\u001b[0;34m(trainer, trainer_fn, *args, **kwargs)\u001b[0m\n\u001b[1;32m     45\u001b[0m     \u001b[38;5;28;01mif\u001b[39;00m trainer\u001b[38;5;241m.\u001b[39mstrategy\u001b[38;5;241m.\u001b[39mlauncher \u001b[38;5;129;01mis\u001b[39;00m \u001b[38;5;129;01mnot\u001b[39;00m \u001b[38;5;28;01mNone\u001b[39;00m:\n\u001b[1;32m     46\u001b[0m         \u001b[38;5;28;01mreturn\u001b[39;00m trainer\u001b[38;5;241m.\u001b[39mstrategy\u001b[38;5;241m.\u001b[39mlauncher\u001b[38;5;241m.\u001b[39mlaunch(trainer_fn, \u001b[38;5;241m*\u001b[39margs, trainer\u001b[38;5;241m=\u001b[39mtrainer, \u001b[38;5;241m*\u001b[39m\u001b[38;5;241m*\u001b[39mkwargs)\n\u001b[0;32m---> 47\u001b[0m     \u001b[38;5;28;01mreturn\u001b[39;00m \u001b[43mtrainer_fn\u001b[49m\u001b[43m(\u001b[49m\u001b[38;5;241;43m*\u001b[39;49m\u001b[43margs\u001b[49m\u001b[43m,\u001b[49m\u001b[43m \u001b[49m\u001b[38;5;241;43m*\u001b[39;49m\u001b[38;5;241;43m*\u001b[39;49m\u001b[43mkwargs\u001b[49m\u001b[43m)\u001b[49m\n\u001b[1;32m     49\u001b[0m \u001b[38;5;28;01mexcept\u001b[39;00m _TunerExitException:\n\u001b[1;32m     50\u001b[0m     _call_teardown_hook(trainer)\n",
      "File \u001b[0;32m~/coding/pytorch_learning/.venv/lib/python3.9/site-packages/pytorch_lightning/trainer/trainer.py:789\u001b[0m, in \u001b[0;36mTrainer._test_impl\u001b[0;34m(self, model, dataloaders, ckpt_path, verbose, datamodule)\u001b[0m\n\u001b[1;32m    785\u001b[0m \u001b[38;5;28;01massert\u001b[39;00m \u001b[38;5;28mself\u001b[39m\u001b[38;5;241m.\u001b[39mstate\u001b[38;5;241m.\u001b[39mfn \u001b[38;5;129;01mis\u001b[39;00m \u001b[38;5;129;01mnot\u001b[39;00m \u001b[38;5;28;01mNone\u001b[39;00m\n\u001b[1;32m    786\u001b[0m ckpt_path \u001b[38;5;241m=\u001b[39m \u001b[38;5;28mself\u001b[39m\u001b[38;5;241m.\u001b[39m_checkpoint_connector\u001b[38;5;241m.\u001b[39m_select_ckpt_path(\n\u001b[1;32m    787\u001b[0m     \u001b[38;5;28mself\u001b[39m\u001b[38;5;241m.\u001b[39mstate\u001b[38;5;241m.\u001b[39mfn, ckpt_path, model_provided\u001b[38;5;241m=\u001b[39mmodel_provided, model_connected\u001b[38;5;241m=\u001b[39m\u001b[38;5;28mself\u001b[39m\u001b[38;5;241m.\u001b[39mlightning_module \u001b[38;5;129;01mis\u001b[39;00m \u001b[38;5;129;01mnot\u001b[39;00m \u001b[38;5;28;01mNone\u001b[39;00m\n\u001b[1;32m    788\u001b[0m )\n\u001b[0;32m--> 789\u001b[0m results \u001b[38;5;241m=\u001b[39m \u001b[38;5;28;43mself\u001b[39;49m\u001b[38;5;241;43m.\u001b[39;49m\u001b[43m_run\u001b[49m\u001b[43m(\u001b[49m\u001b[43mmodel\u001b[49m\u001b[43m,\u001b[49m\u001b[43m \u001b[49m\u001b[43mckpt_path\u001b[49m\u001b[38;5;241;43m=\u001b[39;49m\u001b[43mckpt_path\u001b[49m\u001b[43m)\u001b[49m\n\u001b[1;32m    790\u001b[0m \u001b[38;5;66;03m# remove the tensors from the test results\u001b[39;00m\n\u001b[1;32m    791\u001b[0m results \u001b[38;5;241m=\u001b[39m convert_tensors_to_scalars(results)\n",
      "File \u001b[0;32m~/coding/pytorch_learning/.venv/lib/python3.9/site-packages/pytorch_lightning/trainer/trainer.py:932\u001b[0m, in \u001b[0;36mTrainer._run\u001b[0;34m(self, model, ckpt_path)\u001b[0m\n\u001b[1;32m    929\u001b[0m \u001b[38;5;28mself\u001b[39m\u001b[38;5;241m.\u001b[39m_callback_connector\u001b[38;5;241m.\u001b[39m_attach_model_callbacks()\n\u001b[1;32m    930\u001b[0m \u001b[38;5;28mself\u001b[39m\u001b[38;5;241m.\u001b[39m_callback_connector\u001b[38;5;241m.\u001b[39m_attach_model_logging_functions()\n\u001b[0;32m--> 932\u001b[0m \u001b[43m_verify_loop_configurations\u001b[49m\u001b[43m(\u001b[49m\u001b[38;5;28;43mself\u001b[39;49m\u001b[43m)\u001b[49m\n\u001b[1;32m    934\u001b[0m \u001b[38;5;66;03m# ----------------------------\u001b[39;00m\n\u001b[1;32m    935\u001b[0m \u001b[38;5;66;03m# SET UP THE TRAINER\u001b[39;00m\n\u001b[1;32m    936\u001b[0m \u001b[38;5;66;03m# ----------------------------\u001b[39;00m\n\u001b[1;32m    937\u001b[0m log\u001b[38;5;241m.\u001b[39mdebug(\u001b[38;5;124mf\u001b[39m\u001b[38;5;124m\"\u001b[39m\u001b[38;5;132;01m{\u001b[39;00m\u001b[38;5;28mself\u001b[39m\u001b[38;5;241m.\u001b[39m\u001b[38;5;18m__class__\u001b[39m\u001b[38;5;241m.\u001b[39m\u001b[38;5;18m__name__\u001b[39m\u001b[38;5;132;01m}\u001b[39;00m\u001b[38;5;124m: setting up strategy environment\u001b[39m\u001b[38;5;124m\"\u001b[39m)\n",
      "File \u001b[0;32m~/coding/pytorch_learning/.venv/lib/python3.9/site-packages/pytorch_lightning/trainer/configuration_validator.py:41\u001b[0m, in \u001b[0;36m_verify_loop_configurations\u001b[0;34m(trainer)\u001b[0m\n\u001b[1;32m     39\u001b[0m     __verify_eval_loop_configuration(model, \u001b[38;5;124m\"\u001b[39m\u001b[38;5;124mval\u001b[39m\u001b[38;5;124m\"\u001b[39m)\n\u001b[1;32m     40\u001b[0m \u001b[38;5;28;01melif\u001b[39;00m trainer\u001b[38;5;241m.\u001b[39mstate\u001b[38;5;241m.\u001b[39mfn \u001b[38;5;241m==\u001b[39m TrainerFn\u001b[38;5;241m.\u001b[39mTESTING:\n\u001b[0;32m---> 41\u001b[0m     \u001b[43m__verify_eval_loop_configuration\u001b[49m\u001b[43m(\u001b[49m\u001b[43mmodel\u001b[49m\u001b[43m,\u001b[49m\u001b[43m \u001b[49m\u001b[38;5;124;43m\"\u001b[39;49m\u001b[38;5;124;43mtest\u001b[39;49m\u001b[38;5;124;43m\"\u001b[39;49m\u001b[43m)\u001b[49m\n\u001b[1;32m     42\u001b[0m \u001b[38;5;28;01melif\u001b[39;00m trainer\u001b[38;5;241m.\u001b[39mstate\u001b[38;5;241m.\u001b[39mfn \u001b[38;5;241m==\u001b[39m TrainerFn\u001b[38;5;241m.\u001b[39mPREDICTING:\n\u001b[1;32m     43\u001b[0m     __verify_eval_loop_configuration(model, \u001b[38;5;124m\"\u001b[39m\u001b[38;5;124mpredict\u001b[39m\u001b[38;5;124m\"\u001b[39m)\n",
      "File \u001b[0;32m~/coding/pytorch_learning/.venv/lib/python3.9/site-packages/pytorch_lightning/trainer/configuration_validator.py:106\u001b[0m, in \u001b[0;36m__verify_eval_loop_configuration\u001b[0;34m(model, stage)\u001b[0m\n\u001b[1;32m    104\u001b[0m \u001b[38;5;28;01mif\u001b[39;00m \u001b[38;5;129;01mnot\u001b[39;00m has_step:\n\u001b[1;32m    105\u001b[0m     trainer_method \u001b[38;5;241m=\u001b[39m \u001b[38;5;124m\"\u001b[39m\u001b[38;5;124mvalidate\u001b[39m\u001b[38;5;124m\"\u001b[39m \u001b[38;5;28;01mif\u001b[39;00m stage \u001b[38;5;241m==\u001b[39m \u001b[38;5;124m\"\u001b[39m\u001b[38;5;124mval\u001b[39m\u001b[38;5;124m\"\u001b[39m \u001b[38;5;28;01melse\u001b[39;00m stage\n\u001b[0;32m--> 106\u001b[0m     \u001b[38;5;28;01mraise\u001b[39;00m MisconfigurationException(\u001b[38;5;124mf\u001b[39m\u001b[38;5;124m\"\u001b[39m\u001b[38;5;124mNo `\u001b[39m\u001b[38;5;132;01m{\u001b[39;00mstep_name\u001b[38;5;132;01m}\u001b[39;00m\u001b[38;5;124m()` method defined to run `Trainer.\u001b[39m\u001b[38;5;132;01m{\u001b[39;00mtrainer_method\u001b[38;5;132;01m}\u001b[39;00m\u001b[38;5;124m`.\u001b[39m\u001b[38;5;124m\"\u001b[39m)\n\u001b[1;32m    108\u001b[0m \u001b[38;5;66;03m# check legacy hooks are not present\u001b[39;00m\n\u001b[1;32m    109\u001b[0m epoch_end_name \u001b[38;5;241m=\u001b[39m \u001b[38;5;124m\"\u001b[39m\u001b[38;5;124mvalidation_epoch_end\u001b[39m\u001b[38;5;124m\"\u001b[39m \u001b[38;5;28;01mif\u001b[39;00m stage \u001b[38;5;241m==\u001b[39m \u001b[38;5;124m\"\u001b[39m\u001b[38;5;124mval\u001b[39m\u001b[38;5;124m\"\u001b[39m \u001b[38;5;28;01melse\u001b[39;00m \u001b[38;5;124m\"\u001b[39m\u001b[38;5;124mtest_epoch_end\u001b[39m\u001b[38;5;124m\"\u001b[39m\n",
      "\u001b[0;31mMisconfigurationException\u001b[0m: No `test_step()` method defined to run `Trainer.test`."
     ]
    }
   ],
   "source": [
    "trainer.test(model, test_loader)"
   ]
  },
  {
   "cell_type": "markdown",
   "metadata": {},
   "source": [
    "vscode에서 편집했을 떄 출력결과가 길면 깃허브에 이상하게 올라는 것으로 보임. nbformat으로 다시 직렬화해서 문제를 해결해보자."
   ]
  }
 ],
 "metadata": {
  "kernelspec": {
   "display_name": ".venv",
   "language": "python",
   "name": "python3"
  },
  "language_info": {
   "codemirror_mode": {
    "name": "ipython",
    "version": 3
   },
   "file_extension": ".py",
   "mimetype": "text/x-python",
   "name": "python",
   "nbconvert_exporter": "python",
   "pygments_lexer": "ipython3",
   "version": "3.9.6"
  }
 },
 "nbformat": 4,
 "nbformat_minor": 2
}
